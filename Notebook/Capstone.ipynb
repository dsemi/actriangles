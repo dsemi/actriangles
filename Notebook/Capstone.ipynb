{
 "metadata": {
  "name": "",
  "signature": "sha256:ea7c4e4a5185a2b3f796b1d25878efafbd6fe5ba50b9a1621a0274be0af0a2f3"
 },
 "nbformat": 3,
 "nbformat_minor": 0,
 "worksheets": [
  {
   "cells": [
    {
     "cell_type": "code",
     "collapsed": false,
     "input": [
      "from math import sqrt\n",
      "import numpy as np\n",
      "import matplotlib.pyplot as plt\n",
      "from mpl_toolkits.mplot3d import Axes3D"
     ],
     "language": "python",
     "metadata": {},
     "outputs": [],
     "prompt_number": 19
    },
    {
     "cell_type": "code",
     "collapsed": false,
     "input": [
      "interval = 200\n",
      "xs = []\n",
      "ys = []\n",
      "for i in range(interval + 1):\n",
      "    for j in range(interval + 1):\n",
      "        x = j/interval\n",
      "        y = i/interval\n",
      "        if x + y <= 1 and (x,y) not in [(0,0),(1,0),(0,1)]:\n",
      "            xs.append(x)\n",
      "            ys.append(y)"
     ],
     "language": "python",
     "metadata": {},
     "outputs": [],
     "prompt_number": 20
    },
    {
     "cell_type": "code",
     "collapsed": false,
     "input": [
      "def ac_triangle(a,b):\n",
      "    return (1/(a+b)*sqrt(a**2 + b**2),\n",
      "            1/(1-b)*sqrt(a**2 + (1-b)**2),\n",
      "            1/(1-a)*sqrt(b**2 + (1-a)**2))"
     ],
     "language": "python",
     "metadata": {},
     "outputs": [],
     "prompt_number": 21
    },
    {
     "cell_type": "code",
     "collapsed": false,
     "input": [
      "fig = plt.figure()\n",
      "ax = fig.add_subplot(111, projection='3d')\n",
      "points = [sorted(ac_triangle(x,y)) for x,y in zip(xs,ys)]\n",
      "for a,b,c in points:\n",
      "    if a + b <= c:\n",
      "        print(\"Invalid triangle\")\n",
      "ps = [list(p) for p in zip(*points)]\n",
      "# [(a,b,c) for a,b,c in points if a**2 + b**2 - c**2 < 0.02]\n",
      "ax.scatter(*ps, marker='.')\n",
      "plt.show()"
     ],
     "language": "python",
     "metadata": {},
     "outputs": [],
     "prompt_number": 25
    },
    {
     "cell_type": "code",
     "collapsed": false,
     "input": [],
     "language": "python",
     "metadata": {},
     "outputs": []
    }
   ],
   "metadata": {}
  }
 ]
}