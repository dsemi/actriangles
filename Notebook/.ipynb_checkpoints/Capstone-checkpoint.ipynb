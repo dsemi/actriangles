{
 "metadata": {
  "name": "",
  "signature": "sha256:572e0d9c6e8e61936bfc927416fef4e22e3d8527ad12294ef84686ecd50f3f4d"
 },
 "nbformat": 3,
 "nbformat_minor": 0,
 "worksheets": [
  {
   "cells": [
    {
     "cell_type": "code",
     "collapsed": false,
     "input": [
      "from math import sqrt\n",
      "import numpy as np\n",
      "import matplotlib.pyplot as plt\n",
      "from mpl_toolkits.mplot3d import Axes3D"
     ],
     "language": "python",
     "metadata": {},
     "outputs": [],
     "prompt_number": 19
    },
    {
     "cell_type": "code",
     "collapsed": false,
     "input": [
      "interval = 200\n",
      "xs = []\n",
      "ys = []\n",
      "for i in range(interval + 1):\n",
      "    for j in range(interval + 1):\n",
      "        x = j/interval\n",
      "        y = i/interval\n",
      "        if x + y <= 1 and (x,y) not in [(0,0),(1,0),(0,1)]:\n",
      "            xs.append(x)\n",
      "            ys.append(y)"
     ],
     "language": "python",
     "metadata": {},
     "outputs": [],
     "prompt_number": 20
    },
    {
     "cell_type": "code",
     "collapsed": false,
     "input": [
      "def ac_triangle(a,b):\n",
      "    return (1/(a+b)*sqrt(a**2 + b**2),\n",
      "            1/(1-b)*sqrt(a**2 + (1-b)**2),\n",
      "            1/(1-a)*sqrt(b**2 + (1-a)**2))"
     ],
     "language": "python",
     "metadata": {},
     "outputs": [],
     "prompt_number": 21
    },
    {
     "cell_type": "code",
     "collapsed": false,
     "input": [
      "fig = plt.figure()\n",
      "ax = fig.add_subplot(111, projection='3d')\n",
      "points = [sorted(ac_triangle(x,y)) for x,y in zip(xs,ys)]\n",
      "ps = [list(p) for p in zip(*points)]\n",
      "# [(a,b,c) for a,b,c in points if a**2 + b**2 - c**2 < 0.02]\n",
      "ax.scatter(*ps, marker='.')\n",
      "plt.show()"
     ],
     "language": "python",
     "metadata": {},
     "outputs": [
      {
       "metadata": {},
       "output_type": "pyout",
       "prompt_number": 23,
       "text": [
        "3"
       ]
      }
     ],
     "prompt_number": 23
    },
    {
     "cell_type": "code",
     "collapsed": false,
     "input": [],
     "language": "python",
     "metadata": {},
     "outputs": []
    }
   ],
   "metadata": {}
  }
 ]
}