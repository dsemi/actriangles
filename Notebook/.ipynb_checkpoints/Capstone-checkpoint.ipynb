{
 "metadata": {
  "name": "",
  "signature": "sha256:af937d1313bc2e42e6c317aea33a30aef7e863a854d33ee8de781f0a8e35f2d6"
 },
 "nbformat": 3,
 "nbformat_minor": 0,
 "worksheets": [
  {
   "cells": [
    {
     "cell_type": "code",
     "collapsed": false,
     "input": [
      "from math import sqrt\n",
      "import numpy as np\n",
      "import matplotlib.pyplot as plt\n",
      "from mpl_toolkits.mplot3d import Axes3D"
     ],
     "language": "python",
     "metadata": {},
     "outputs": [],
     "prompt_number": 2
    },
    {
     "cell_type": "code",
     "collapsed": false,
     "input": [
      "interval = 200\n",
      "xs = []\n",
      "ys = []\n",
      "for i in range(interval + 1):\n",
      "    for j in range(interval + 1):\n",
      "        x = j/interval\n",
      "        y = i/interval\n",
      "        if x + y <= 1 and (x,y) not in [(0,0),(1,0),(0,1)]:\n",
      "            xs.append(x)\n",
      "            ys.append(y)"
     ],
     "language": "python",
     "metadata": {},
     "outputs": [],
     "prompt_number": 4
    },
    {
     "cell_type": "code",
     "collapsed": false,
     "input": [
      "def ac_triangle(a,b):\n",
      "    return (1/(a+b)*sqrt(a**2 + b**2),\n",
      "            1/(1-b)*sqrt(a**2 + (1-b)**2),\n",
      "            1/(1-a)*sqrt(b**2 + (1-a)**2))"
     ],
     "language": "python",
     "metadata": {},
     "outputs": [],
     "prompt_number": 5
    },
    {
     "cell_type": "code",
     "collapsed": false,
     "input": [
      "def area(a,b,c):\n",
      "    s = (a+b+c)/2\n",
      "    return sqrt(s*(s-a)*(s-b)*(s-c))"
     ],
     "language": "python",
     "metadata": {},
     "outputs": [],
     "prompt_number": 8
    },
    {
     "cell_type": "code",
     "collapsed": false,
     "input": [
      "fig = plt.figure()\n",
      "ax = fig.add_subplot(111, projection='3d')\n",
      "points = [sorted(ac_triangle(x,y)) for x,y in zip(xs,ys)]\n",
      "areas = []\n",
      "for a,b,c in points:\n",
      "    if a + b <= c:\n",
      "        print(\"Invalid triangle\")\n",
      "    else:\n",
      "        areas.append((area(a,b,c),(a,b,c)))\n",
      "m = max(areas)\n",
      "print(\"The largest area is %f, with sides %f, %f, %f\" % (m[0],m[1][0],m[1][1],m[1][2]))\n",
      "print(\"Right triangles: \" + str([(a,b,c) for a,b,c in points if a**2 + b**2 - c**2 < 0.001]))\n",
      "#ps = [list(p) for p in zip(*points)]\n",
      "#ax.scatter(*ps, marker='.')\n",
      "#plt.show()"
     ],
     "language": "python",
     "metadata": {},
     "outputs": [
      {
       "output_type": "stream",
       "stream": "stdout",
       "text": [
        "The largest area is 0.658607, with sides 0.995013, 1.414214, 1.414214\n",
        "Right triangles: []\n"
       ]
      }
     ],
     "prompt_number": 14
    },
    {
     "cell_type": "code",
     "collapsed": false,
     "input": [
      "interval = 1000\n",
      "h = 4\n",
      "xs = []\n",
      "ys = []\n",
      "for i in range(interval + 1):\n",
      "    for j in range(interval + 1):\n",
      "        x = 2*j/interval - 1\n",
      "        y = h*(i/interval)\n",
      "        if y <= h*x + h and y <= (-h)*x + h and (x,y) not in [(-1,0),(1,0),(0,h)]:\n",
      "            xs.append(x)\n",
      "            ys.append(y)\n",
      "\n",
      "def ac(p,q):\n",
      "    return (sqrt(((q/(p-1)+h)/(q/(p-1)-h)-1)**2 + ((q/(p-1)+h)/(q/(p-1)-h)*h+h)**2),\n",
      "            sqrt(((h-q/(p+1))/(q/(p+1)+h)+1)**2 + (h-h*(h-q/(p+1))/(q/(p+1)+h))**2),\n",
      "            sqrt((h*p/(h-q))**2 + h**2))\n",
      "\n",
      "validx = []\n",
      "validy = []\n",
      "invalidx = []\n",
      "invalidy = []\n",
      "\n",
      "for x,y in zip(xs,ys):\n",
      "    (a,b,c) = sorted(ac(x,y))\n",
      "    if a + b > c:\n",
      "        validx.append(x)\n",
      "        validy.append(y)\n",
      "    else:\n",
      "        invalidx.append(x)\n",
      "        invalidy.append(y)\n",
      "\n",
      "plt.plot([-1,0],[0,h],'k-')        \n",
      "plt.plot([0,1],[h,0],'k-')\n",
      "plt.plot(invalidx,invalidy,'r,')\n",
      "plt.axis([-1, 1, 0, h])\n",
      "plt.show()"
     ],
     "language": "python",
     "metadata": {},
     "outputs": [],
     "prompt_number": 67
    },
    {
     "cell_type": "code",
     "collapsed": false,
     "input": [],
     "language": "python",
     "metadata": {},
     "outputs": []
    }
   ],
   "metadata": {}
  }
 ]
}