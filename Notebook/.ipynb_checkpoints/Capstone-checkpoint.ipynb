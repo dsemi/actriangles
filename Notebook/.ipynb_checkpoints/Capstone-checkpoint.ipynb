{
 "metadata": {
  "name": "",
  "signature": "sha256:2c63157b0e57dcc8c37a315bac2611fd4ad258ee673e1a069b4ad45c3f1c91df"
 },
 "nbformat": 3,
 "nbformat_minor": 0,
 "worksheets": [
  {
   "cells": [
    {
     "cell_type": "code",
     "collapsed": false,
     "input": [
      "from math import sqrt\n",
      "import numpy as np\n",
      "import matplotlib.pyplot as plt\n",
      "from mpl_toolkits.mplot3d import Axes3D"
     ],
     "language": "python",
     "metadata": {},
     "outputs": [],
     "prompt_number": 3
    },
    {
     "cell_type": "code",
     "collapsed": false,
     "input": [
      "interval = 200\n",
      "xs = []\n",
      "ys = []\n",
      "for i in range(interval + 1):\n",
      "    for j in range(interval + 1):\n",
      "        x = j/interval\n",
      "        y = i/interval\n",
      "        if x + y <= 1 and (x,y) not in [(0,0),(1,0),(0,1)]:\n",
      "            xs.append(x)\n",
      "            ys.append(y)"
     ],
     "language": "python",
     "metadata": {},
     "outputs": [],
     "prompt_number": 4
    },
    {
     "cell_type": "code",
     "collapsed": false,
     "input": [
      "def ac_triangle(a,b):\n",
      "    return (1/(a+b)*sqrt(a**2 + b**2),\n",
      "            1/(1-b)*sqrt(a**2 + (1-b)**2),\n",
      "            1/(1-a)*sqrt(b**2 + (1-a)**2))"
     ],
     "language": "python",
     "metadata": {},
     "outputs": [],
     "prompt_number": 5
    },
    {
     "cell_type": "code",
     "collapsed": false,
     "input": [
      "def area(a,b,c):\n",
      "    s = (a+b+c)/2\n",
      "    return sqrt(s*(s-a)*(s-b)*(s-c))"
     ],
     "language": "python",
     "metadata": {},
     "outputs": [],
     "prompt_number": 8
    },
    {
     "cell_type": "code",
     "collapsed": false,
     "input": [
      "fig = plt.figure()\n",
      "ax = fig.add_subplot(111, projection='3d')\n",
      "points = [sorted(ac_triangle(x,y)) for x,y in zip(xs,ys)]\n",
      "areas = []\n",
      "for a,b,c in points:\n",
      "    if a + b <= c:\n",
      "        print(\"Invalid triangle\")\n",
      "    else:\n",
      "        areas.append((area(a,b,c),(a,b,c)))\n",
      "m = max(areas)\n",
      "print(\"The largest area is %f, with sides %f, %f, %f\" % (m[0],m[1][0],m[1][1],m[1][2]))\n",
      "print(\"Right triangles: \" + str([(a,b,c) for a,b,c in points if a**2 + b**2 - c**2 < 0.001]))\n",
      "#ps = [list(p) for p in zip(*points)]\n",
      "#ax.scatter(*ps, marker='.')\n",
      "#plt.show()"
     ],
     "language": "python",
     "metadata": {},
     "outputs": [
      {
       "output_type": "stream",
       "stream": "stdout",
       "text": [
        "The largest area is 0.658607, with sides 0.995013, 1.414214, 1.414214\n",
        "Right triangles: []\n"
       ]
      }
     ],
     "prompt_number": 14
    },
    {
     "cell_type": "code",
     "collapsed": false,
     "input": [],
     "language": "python",
     "metadata": {},
     "outputs": []
    }
   ],
   "metadata": {}
  }
 ]
}